{
 "cells": [
  {
   "cell_type": "code",
   "execution_count": 13,
   "id": "0c21f82f-cdb4-4532-9bf7-f78bc20ae83c",
   "metadata": {},
   "outputs": [],
   "source": [
    "from typing import List, Tuple\n",
    "import chess\n",
    "import chess.pgn"
   ]
  },
  {
   "cell_type": "code",
   "execution_count": 14,
   "id": "a72d9554-d63b-43fe-9020-3c213e5819c3",
   "metadata": {},
   "outputs": [],
   "source": [
    "\n",
    "\n",
    "def is_fork(fen, last_move):\n",
    "    game = game_from_fen(fen, last_move)\n",
    "    nb = 0\n",
    "    for _, square in attacked_opponent_squares(\n",
    "        game.board(), game.end().move.to_square, not game.board().turn\n",
    "    ):\n",
    "        print(square)\n",
    "        if is_square_attacked_more_than_defended(game.board(), square, game.board().turn):\n",
    "            nb += 1\n",
    "    return nb > 1\n",
    "\n",
    "def game_from_fen(fen, last_move):\n",
    "    board = chess.Board(fen)\n",
    "    game = chess.pgn.Game.from_board(board)\n",
    "    game.add_main_variation(chess.Move.from_uci(last_move))\n",
    "    return game\n",
    "\n",
    "\n",
    "\n",
    "def attacked_opponent_squares(board: chess.Board, from_square: chess.Square, pov: chess.Color) -> List[Tuple[chess.Piece, chess.Square]]:\n",
    "    pieces = []\n",
    "    piece = board.piece_at(from_square)\n",
    "    \n",
    "    # Get direct attacks first\n",
    "    direct_squares = board.attacks(from_square)\n",
    "    for attacked_square in direct_squares:\n",
    "        attacked_piece = board.piece_at(attacked_square)\n",
    "        if attacked_piece and attacked_piece.color != pov:\n",
    "            pieces.append((attacked_piece, attacked_square))\n",
    "    \n",
    "    # Check for x-ray attacks if it's a sliding piece\n",
    "    if piece and piece.piece_type in [chess.BISHOP, chess.ROOK, chess.QUEEN]:\n",
    "        # Check for x-ray attacks through blocking pieces\n",
    "        for attacked_square in direct_squares:\n",
    "            blocking_piece = board.piece_at(attacked_square)\n",
    "            if blocking_piece and blocking_piece.color == pov:\n",
    "                # Create a copy of the board and remove the blocking piece\n",
    "                board_copy = board.copy()\n",
    "                board_copy.remove_piece_at(attacked_square)\n",
    "                \n",
    "                # Get attacks from the original square on the modified board\n",
    "                xray_squares = board_copy.attacks(from_square)\n",
    "                for xray_square in xray_squares:\n",
    "                    xray_piece = board.piece_at(xray_square)\n",
    "                    if xray_piece and xray_piece.color != pov and (xray_piece, xray_square) not in pieces:\n",
    "                        pieces.append((xray_piece, xray_square))\n",
    "                    \n",
    "    return pieces"
   ]
  },
  {
   "cell_type": "code",
   "execution_count": 15,
   "id": "dcbe907d-0bc5-4288-bcb1-87e56de79b32",
   "metadata": {},
   "outputs": [],
   "source": [
    "fen = \"rn1qkb1r/ppp2ppp/5n2/4p3/2B1P3/5Q2/PPP2PPP/RNB1K2R w KQkq - 2 7\"\n",
    "last_move = \"f3b3\" # In uci is f3b3"
   ]
  },
  {
   "cell_type": "code",
   "execution_count": 18,
   "id": "fefe662c-891f-48fb-b9cf-f0ce8854ea5a",
   "metadata": {},
   "outputs": [
    {
     "ename": "AssertionError",
     "evalue": "",
     "output_type": "error",
     "traceback": [
      "\u001b[0;31m---------------------------------------------------------------------------\u001b[0m",
      "\u001b[0;31mAssertionError\u001b[0m                            Traceback (most recent call last)",
      "Cell \u001b[0;32mIn[18], line 1\u001b[0m\n\u001b[0;32m----> 1\u001b[0m \u001b[38;5;28;01massert\u001b[39;00m(is_fork(fen, last_move))\n",
      "\u001b[0;31mAssertionError\u001b[0m: "
     ]
    }
   ],
   "source": [
    "is_fork(fen, last_move)"
   ]
  },
  {
   "cell_type": "code",
   "execution_count": null,
   "id": "3ed22127-cd26-4e63-88d5-1b10a2635299",
   "metadata": {},
   "outputs": [],
   "source": []
  },
  {
   "cell_type": "code",
   "execution_count": null,
   "id": "85278c71-7b9b-4d2c-8651-47e773c68ccd",
   "metadata": {},
   "outputs": [],
   "source": []
  },
  {
   "cell_type": "code",
   "execution_count": null,
   "id": "6ffac7f4-5589-435f-ac47-eb3875058064",
   "metadata": {},
   "outputs": [],
   "source": []
  }
 ],
 "metadata": {
  "kernelspec": {
   "display_name": "Python 3 (ipykernel)",
   "language": "python",
   "name": "python3"
  },
  "language_info": {
   "codemirror_mode": {
    "name": "ipython",
    "version": 3
   },
   "file_extension": ".py",
   "mimetype": "text/x-python",
   "name": "python",
   "nbconvert_exporter": "python",
   "pygments_lexer": "ipython3",
   "version": "3.13.0"
  }
 },
 "nbformat": 4,
 "nbformat_minor": 5
}
